{
 "cells": [
  {
   "cell_type": "code",
   "execution_count": null,
   "id": "da8fcb8f-6fd4-477a-9170-7ea02bf14c39",
   "metadata": {},
   "outputs": [],
   "source": []
  }
 ],
 "metadata": {
  "kernelspec": {
   "display_name": "",
   "name": ""
  },
  "language_info": {
   "name": ""
  }
 },
 "nbformat": 4,
 "nbformat_minor": 5
}
