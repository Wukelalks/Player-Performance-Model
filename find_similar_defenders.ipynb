{
 "cells": [
  {
   "cell_type": "code",
   "execution_count": null,
   "id": "63c787d9-6ba7-4f90-9104-52cc4fd45b26",
   "metadata": {},
   "outputs": [],
   "source": []
  }
 ],
 "metadata": {
  "kernelspec": {
   "display_name": "",
   "name": ""
  },
  "language_info": {
   "name": ""
  }
 },
 "nbformat": 4,
 "nbformat_minor": 5
}
